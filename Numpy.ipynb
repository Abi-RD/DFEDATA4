{
 "cells": [
  {
   "cell_type": "code",
   "execution_count": null,
   "id": "731f2f1a",
   "metadata": {},
   "outputs": [],
   "source": [
    "import numpy as np"
   ]
  },
  {
   "cell_type": "code",
   "execution_count": 5,
   "id": "28b26536",
   "metadata": {},
   "outputs": [
    {
     "name": "stdout",
     "output_type": "stream",
     "text": [
      "[78, 89, 90, 65, 34]\n",
      "<class 'list'>\n"
     ]
    }
   ],
   "source": [
    "marks = [78,89,90,65,34]\n",
    "print(marks)\n",
    "print(type(marks))"
   ]
  },
  {
   "cell_type": "code",
   "execution_count": 6,
   "id": "8be0ae52",
   "metadata": {},
   "outputs": [
    {
     "name": "stdout",
     "output_type": "stream",
     "text": [
      "[78 89 90 65 34]\n",
      "<class 'numpy.ndarray'>\n"
     ]
    }
   ],
   "source": [
    "marks_arr = np.array(marks)\n",
    "print(marks_arr)\n",
    "print(type(marks_arr))"
   ]
  },
  {
   "cell_type": "code",
   "execution_count": 14,
   "id": "0d2355b4",
   "metadata": {},
   "outputs": [
    {
     "name": "stdout",
     "output_type": "stream",
     "text": [
      "[[45 67]\n",
      " [12 60]\n",
      " [ 1 67]\n",
      " [56 49]\n",
      " [24 46]\n",
      " [20 68]\n",
      " [79 90]]\n"
     ]
    }
   ],
   "source": [
    "age = [45,67,12,60,1,67,56]\n",
    "weight = [49,24,46,20,68,79,90]\n",
    "\n",
    "ducks = np.array([age, weight])  ## also put [] to indicate arry before ()\n",
    "\n",
    "# print(ducks)\n",
    "\n",
    "# print(np.size(ducks))\n",
    "\n",
    "# print(np.shape(ducks))\n",
    "\n",
    "# print(np.reshape(ducks,(14,1))\n",
    "\n",
    "# ducks = ducks.reshape(14,1)    #or\n",
    "# ducks = np.reshape(ducks,(2,7))\n",
    "ducks = np.reshape(ducks,(7,2)) \n",
    "# ducks = np.reshape(ducks,(14,1))   # same as line above\n",
    "print(ducks)"
   ]
  },
  {
   "cell_type": "code",
   "execution_count": 8,
   "id": "5b209104",
   "metadata": {},
   "outputs": [
    {
     "name": "stdout",
     "output_type": "stream",
     "text": [
      "[ 1. 14. 27. 40. 53. 66.]\n"
     ]
    }
   ],
   "source": [
    "six_spaced = np.linspace(1,66,6)\n",
    "print(six_spaced)"
   ]
  },
  {
   "cell_type": "code",
   "execution_count": 9,
   "id": "a6851811",
   "metadata": {},
   "outputs": [
    {
     "name": "stdout",
     "output_type": "stream",
     "text": [
      "[]\n"
     ]
    }
   ],
   "source": [
    "empt = np.empty((0,3), dtype = int)\n",
    "print(empt)"
   ]
  },
  {
   "cell_type": "code",
   "execution_count": 10,
   "id": "90d80afd",
   "metadata": {},
   "outputs": [
    {
     "name": "stdout",
     "output_type": "stream",
     "text": [
      "[[0 0 0 0 0 0 0]\n",
      " [0 0 0 0 0 0 0]\n",
      " [0 0 0 0 0 0 0]\n",
      " [0 0 0 0 0 0 0]]\n"
     ]
    }
   ],
   "source": [
    "all_noughts = np.zeros((4,7), dtype=int)       # same as above - empty array\n",
    "print(all_noughts)"
   ]
  },
  {
   "cell_type": "code",
   "execution_count": 11,
   "id": "8e9b9e67",
   "metadata": {},
   "outputs": [
    {
     "name": "stdout",
     "output_type": "stream",
     "text": [
      "[[0 0 0 0]\n",
      " [0 0 0 0]\n",
      " [0 0 0 0]]\n"
     ]
    }
   ],
   "source": [
    "fll = np.full((3,4), 0, dtype=int)     # same as above - empty array\n",
    "print(fll)"
   ]
  },
  {
   "cell_type": "code",
   "execution_count": 12,
   "id": "49c7ec63",
   "metadata": {},
   "outputs": [
    {
     "name": "stdout",
     "output_type": "stream",
     "text": [
      "[[1. 0. 0. 0. 0. 0. 0. 0.]\n",
      " [0. 1. 0. 0. 0. 0. 0. 0.]\n",
      " [0. 0. 1. 0. 0. 0. 0. 0.]\n",
      " [0. 0. 0. 1. 0. 0. 0. 0.]\n",
      " [0. 0. 0. 0. 1. 0. 0. 0.]\n",
      " [0. 0. 0. 0. 0. 1. 0. 0.]\n",
      " [0. 0. 0. 0. 0. 0. 1. 0.]\n",
      " [0. 0. 0. 0. 0. 0. 0. 1.]]\n"
     ]
    }
   ],
   "source": [
    "identity = np.eye(8)\n",
    "print(identity)"
   ]
  }
 ],
 "metadata": {
  "kernelspec": {
   "display_name": "Python 3 (ipykernel)",
   "language": "python",
   "name": "python3"
  },
  "language_info": {
   "codemirror_mode": {
    "name": "ipython",
    "version": 3
   },
   "file_extension": ".py",
   "mimetype": "text/x-python",
   "name": "python",
   "nbconvert_exporter": "python",
   "pygments_lexer": "ipython3",
   "version": "3.10.4"
  }
 },
 "nbformat": 4,
 "nbformat_minor": 5
}
