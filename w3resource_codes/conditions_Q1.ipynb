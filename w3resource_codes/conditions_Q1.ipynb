{
 "cells": [
  {
   "cell_type": "code",
   "execution_count": 1,
   "metadata": {},
   "outputs": [
    {
     "name": "stdout",
     "output_type": "stream",
     "text": [
      "[1505, 1540, 1575, 1610, 1645, 1680, 1715, 1750, 1785, 1820, 1855, 1890, 1925, 1960, 1995, 2030, 2065, 2100, 2135, 2170, 2205, 2240, 2275, 2310, 2345, 2380, 2415, 2450, 2485, 2520, 2555, 2590, 2625, 2660, 2695]\n"
     ]
    }
   ],
   "source": [
    "# Python program to find those numbers which are divisible by 7 and multiple of 5, between 1500 and 2700 (both included).\n",
    "                 \n",
    "y = [ ]         \n",
    "for i in range(1500, 2701):               \n",
    "        if (i % 7 == 0) and (i % 5 == 0): \n",
    "            y.append(i)                   \n",
    "        i += 1\n",
    "print(y)    \n"
   ]
  }
 ],
 "metadata": {
  "interpreter": {
   "hash": "36e904ccdb4f09838a01b7a3990727405d3bb0473e52c329a671002203446b10"
  },
  "kernelspec": {
   "display_name": "Python 3.10.0 64-bit",
   "language": "python",
   "name": "python3"
  },
  "language_info": {
   "codemirror_mode": {
    "name": "ipython",
    "version": 3
   },
   "file_extension": ".py",
   "mimetype": "text/x-python",
   "name": "python",
   "nbconvert_exporter": "python",
   "pygments_lexer": "ipython3",
   "version": "3.10.0"
  },
  "orig_nbformat": 4
 },
 "nbformat": 4,
 "nbformat_minor": 2
}
