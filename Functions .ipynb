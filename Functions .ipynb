{
 "cells": [
  {
   "cell_type": "code",
   "execution_count": 1,
   "metadata": {},
   "outputs": [
    {
     "name": "stdout",
     "output_type": "stream",
     "text": [
      "[1505, 1540, 1575, 1610, 1645, 1680, 1715, 1750, 1785, 1820, 1855, 1890, 1925, 1960, 1995, 2030, 2065, 2100, 2135, 2170, 2205, 2240, 2275, 2310, 2345, 2380, 2415, 2450, 2485, 2520, 2555, 2590, 2625, 2660, 2695]\n"
     ]
    }
   ],
   "source": [
    "# Python program to find those numbers which are divisible by 7 and multiple of 5, between 1500 and 2700 (both included).\n",
    "                 \n",
    "y = [ ]         \n",
    "for i in range(1500, 2701):               \n",
    "        if (i % 7 == 0) and (i % 5 == 0): \n",
    "            y.append(i)                   \n",
    "        i += 1\n",
    "print(y)"
   ]
  },
  {
   "cell_type": "code",
   "execution_count": 1,
   "metadata": {},
   "outputs": [
    {
     "name": "stdout",
     "output_type": "stream",
     "text": [
      "Python is awesome.\n"
     ]
    }
   ],
   "source": [
    "def printLine(text):\n",
    "\n",
    "  print(text, 'is awesome.')\n",
    "\n",
    "printLine('Python')\n"
   ]
  },
  {
   "cell_type": "code",
   "execution_count": 11,
   "metadata": {},
   "outputs": [
    {
     "name": "stdout",
     "output_type": "stream",
     "text": [
      "Hello ('Frodo', 'Sauron')\n",
      "('Hello', ('Frodo', 'Sauron'))\n"
     ]
    }
   ],
   "source": [
    "name = ('Frodo', 'Sauron')\n",
    "\n",
    "def greetperson(text):\n",
    "    return name\n",
    "print('Hello', (name))\n",
    "print(('Hello', (name)),) \n"
   ]
  },
  {
   "cell_type": "markdown",
   "metadata": {},
   "source": [
    "#### A recursive funtion is a function that calls/returns itself"
   ]
  },
  {
   "cell_type": "code",
   "execution_count": 13,
   "metadata": {},
   "outputs": [
    {
     "name": "stdout",
     "output_type": "stream",
     "text": [
      "25\n"
     ]
    }
   ],
   "source": [
    "# lambda\n",
    "\n",
    "result = lambda x:x*x\n",
    "print(result(5))"
   ]
  },
  {
   "cell_type": "code",
   "execution_count": 14,
   "metadata": {},
   "outputs": [
    {
     "name": "stdout",
     "output_type": "stream",
     "text": [
      "10\n"
     ]
    }
   ],
   "source": [
    "# using recursive function indicator is the (x-1) as in it's recalling itself but NOT with the same in addition\n",
    "\n",
    "def Foo(X):\n",
    "    if (X==1):\n",
    "        return 1\n",
    "    else:\n",
    "        return X + Foo(X-1)\n",
    "print(Foo(4))"
   ]
  },
  {
   "cell_type": "code",
   "execution_count": 16,
   "metadata": {},
   "outputs": [
    {
     "name": "stdout",
     "output_type": "stream",
     "text": [
      "(2, 4, 7)\n"
     ]
    }
   ],
   "source": [
    "numbers = [1,3,6]\n",
    "\n",
    "newNumbers = tuple(map(lambda x:x + 1, numbers))\n",
    "\n",
    "print(newNumbers)"
   ]
  }
 ],
 "metadata": {
  "interpreter": {
   "hash": "36e904ccdb4f09838a01b7a3990727405d3bb0473e52c329a671002203446b10"
  },
  "kernelspec": {
   "display_name": "Python 3.10.0 64-bit",
   "language": "python",
   "name": "python3"
  },
  "language_info": {
   "codemirror_mode": {
    "name": "ipython",
    "version": 3
   },
   "file_extension": ".py",
   "mimetype": "text/x-python",
   "name": "python",
   "nbconvert_exporter": "python",
   "pygments_lexer": "ipython3",
   "version": "3.10.0"
  },
  "orig_nbformat": 4
 },
 "nbformat": 4,
 "nbformat_minor": 2
}
